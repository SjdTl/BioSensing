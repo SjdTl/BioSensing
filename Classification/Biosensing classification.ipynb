{
 "cells": [
  {
   "cell_type": "code",
   "execution_count": 24,
   "id": "913ca025",
   "metadata": {},
   "outputs": [
    {
     "name": "stdout",
     "output_type": "stream",
     "text": [
      "Requirement already satisfied: matplotlib in c:\\users\\bramv\\anaconda3\\lib\\site-packages (3.8.0)\n",
      "Requirement already satisfied: contourpy>=1.0.1 in c:\\users\\bramv\\anaconda3\\lib\\site-packages (from matplotlib) (1.2.0)\n",
      "Requirement already satisfied: cycler>=0.10 in c:\\users\\bramv\\anaconda3\\lib\\site-packages (from matplotlib) (0.11.0)\n",
      "Requirement already satisfied: fonttools>=4.22.0 in c:\\users\\bramv\\anaconda3\\lib\\site-packages (from matplotlib) (4.25.0)\n",
      "Requirement already satisfied: kiwisolver>=1.0.1 in c:\\users\\bramv\\anaconda3\\lib\\site-packages (from matplotlib) (1.4.4)\n",
      "Requirement already satisfied: numpy<2,>=1.21 in c:\\users\\bramv\\anaconda3\\lib\\site-packages (from matplotlib) (1.26.4)\n",
      "Requirement already satisfied: packaging>=20.0 in c:\\users\\bramv\\anaconda3\\lib\\site-packages (from matplotlib) (23.1)\n",
      "Requirement already satisfied: pillow>=6.2.0 in c:\\users\\bramv\\anaconda3\\lib\\site-packages (from matplotlib) (10.2.0)\n",
      "Requirement already satisfied: pyparsing>=2.3.1 in c:\\users\\bramv\\anaconda3\\lib\\site-packages (from matplotlib) (3.0.9)\n",
      "Requirement already satisfied: python-dateutil>=2.7 in c:\\users\\bramv\\anaconda3\\lib\\site-packages (from matplotlib) (2.8.2)\n",
      "Requirement already satisfied: six>=1.5 in c:\\users\\bramv\\anaconda3\\lib\\site-packages (from python-dateutil>=2.7->matplotlib) (1.16.0)\n",
      "Note: you may need to restart the kernel to use updated packages.\n",
      "Requirement already satisfied: tqdm in c:\\users\\bramv\\anaconda3\\lib\\site-packages (4.65.0)\n",
      "Requirement already satisfied: colorama in c:\\users\\bramv\\anaconda3\\lib\\site-packages (from tqdm) (0.4.6)\n",
      "Note: you may need to restart the kernel to use updated packages.\n",
      "Requirement already satisfied: pandas in c:\\users\\bramv\\anaconda3\\lib\\site-packages (2.1.4)\n",
      "Requirement already satisfied: numpy<2,>=1.23.2 in c:\\users\\bramv\\anaconda3\\lib\\site-packages (from pandas) (1.26.4)\n",
      "Requirement already satisfied: python-dateutil>=2.8.2 in c:\\users\\bramv\\anaconda3\\lib\\site-packages (from pandas) (2.8.2)\n",
      "Requirement already satisfied: pytz>=2020.1 in c:\\users\\bramv\\anaconda3\\lib\\site-packages (from pandas) (2023.3.post1)\n",
      "Requirement already satisfied: tzdata>=2022.1 in c:\\users\\bramv\\anaconda3\\lib\\site-packages (from pandas) (2023.3)\n",
      "Requirement already satisfied: six>=1.5 in c:\\users\\bramv\\anaconda3\\lib\\site-packages (from python-dateutil>=2.8.2->pandas) (1.16.0)\n",
      "Note: you may need to restart the kernel to use updated packages.\n"
     ]
    }
   ],
   "source": [
    "%pip install matplotlib\n",
    "%pip install tqdm\n",
    "%pip install pandas\n",
    "\n",
    "import matplotlib.pyplot as plt\n",
    "from tqdm.notebook import tqdm\n",
    "from sklearn import preprocessing\n",
    "from sklearn.decomposition import PCA\n",
    "from scipy import stats\n",
    "import numpy as np\n",
    "import pandas as pd\n",
    "import os"
   ]
  },
  {
   "cell_type": "code",
   "execution_count": 73,
   "id": "5d42eccc",
   "metadata": {},
   "outputs": [
    {
     "name": "stdout",
     "output_type": "stream",
     "text": [
      "     Mean_ecg  mean_EDA    WL_emg   SSC_emg   MAL_emg   MCI_emg      Mean_emg  \\\n",
      "0    0.957791  1.000000  0.441763  0.604681  1.000000  1.000000  0.000000e+00   \n",
      "1    0.223410  0.814044  0.529353  0.509031  0.235217  0.228091  2.035409e-19   \n",
      "2    0.399435  0.677774  0.307441  0.686339  0.438949  0.442457  3.614833e-19   \n",
      "3    0.725063  0.571099  0.987081  0.684304  0.395546  0.430542  2.399701e-19   \n",
      "4    0.294084  0.472124  0.585779  0.682015  0.395678  0.446363  3.500837e-19   \n",
      "..        ...       ...       ...       ...       ...       ...           ...   \n",
      "700  0.610476  0.039591  0.471503  0.796235  0.032958  0.000000  4.449153e-19   \n",
      "701  0.490425  0.033640  0.604711  0.859323  0.030241  0.004876  2.402179e-19   \n",
      "702  0.472677  0.020763  0.556437  0.245485  0.037132  0.040532  5.430511e-19   \n",
      "703  0.477362  0.004003  0.492036  0.000000  0.016342  0.012736  3.064678e-19   \n",
      "704  0.428008  0.000000  0.405875  0.014246  0.000000  0.002043  3.793262e-19   \n",
      "\n",
      "     Median_emg   STD_emg  Mode_emg  label  subject  \n",
      "0      0.420340  1.000000  0.000000      1        2  \n",
      "1      0.275595  0.235217  0.913655      1        2  \n",
      "2      0.310613  0.438949  0.846950      1        2  \n",
      "3      0.000000  0.395546  0.939058      1        2  \n",
      "4      0.087511  0.395678  0.856720      1        2  \n",
      "..          ...       ...       ...    ...      ...  \n",
      "700    0.542679  0.032958  0.986227      4       17  \n",
      "701    0.696713  0.030241  0.982076      4       17  \n",
      "702    0.934659  0.037132  0.991364      4       17  \n",
      "703    0.988389  0.016342  0.990406      4       17  \n",
      "704    1.000000  0.000000  1.000000      4       17  \n",
      "\n",
      "[705 rows x 12 columns]\n"
     ]
    }
   ],
   "source": [
    "#Extract the \n",
    "features_data = pd.read_pickle(\"features.pkl\")\n",
    "#print(features_data[[\"label\", \"subject\"]])\n",
    "\n",
    "features_data_turncated = features_data.drop(columns=['label', 'subject'])\n",
    "\n",
    "#features_data_turncated = features_data[[\"Mean_ecg\", \"mean_EDA\", \"WL_emg\", \"SSC_emg\", \"MAL_emg\", \"MCI_emg\", \"Mean_emg\" \"Median_emg\", \"STD_emg\", \"Mode_emg\"]]\n",
    "#features_data[\"Mean_ecg\"] = preprocessing.normalize()\n",
    "\n",
    "x = features_data_turncated.values\n",
    "min_max_scaler = preprocessing.MinMaxScaler()\n",
    "x_scaled = min_max_scaler.fit_transform(x)\n",
    "features_data_N = pd.DataFrame(x_scaled, index=features_data.index, columns=features_data_turncated.columns)\n",
    "\n",
    "features_data_N = pd.concat([features_data_N, features_data[[\"label\", \"subject\"]]], axis=1).reindex(features_data_N.index)\n",
    "\n",
    "print(features_data_N)"
   ]
  },
  {
   "cell_type": "code",
   "execution_count": 122,
   "id": "7abfa0f1",
   "metadata": {},
   "outputs": [
    {
     "name": "stdout",
     "output_type": "stream",
     "text": [
      "[[ 1.24770449e+00  1.10655972e+00  1.36757994e-01 ... -1.31918496e-02\n",
      "  -5.24183083e-16  5.41712167e-19]\n",
      " [ 1.04887413e-01 -9.91163908e-02 -4.14885580e-01 ...  1.97530498e-02\n",
      "  -4.12912296e-16 -1.28816133e-18]\n",
      " [ 4.00401976e-01  2.26890167e-02 -1.88579465e-01 ...  4.26694757e-02\n",
      "   6.79180999e-19  3.88521500e-18]\n",
      " ...\n",
      " [-7.76495435e-01  4.35088103e-02  7.50106087e-02 ... -1.68124625e-02\n",
      "   1.14168102e-17  4.67567814e-18]\n",
      " [-9.29750863e-01  1.91297416e-01 -1.29024758e-02 ... -1.65120496e-02\n",
      "   9.81018360e-18 -6.95603605e-19]\n",
      " [-9.48834180e-01  1.61084696e-01 -5.20197551e-02 ... -2.00776783e-02\n",
      "   1.04061766e-17  9.41345215e-19]]\n"
     ]
    }
   ],
   "source": [
    "pca = PCA(n_components=10)\n",
    "pca_features = pca.fit_transform(features_data_N.drop(columns=['label', 'subject']))\n",
    "\n",
    "print(pca_features)"
   ]
  },
  {
   "cell_type": "code",
   "execution_count": 124,
   "id": "8dbabd8f",
   "metadata": {},
   "outputs": [],
   "source": [
    "from sklearn.model_selection import train_test_split\n",
    "\n",
    "#Split the data into a train and test set\n",
    "X_train, x_test, Y_train, y_test = train_test_split(pca_features, features_data_N[\"label\"], test_size=0.2,shuffle=True, random_state=102)\n",
    "\n",
    "scaler = preprocessing.StandardScaler().fit(X_train)\n",
    "X_train = scaler.transform(X_train)\n",
    "x_test = scaler.transform(x_test)"
   ]
  },
  {
   "cell_type": "markdown",
   "id": "e87076dc",
   "metadata": {},
   "source": [
    "Below the train data is fitted using the following classifiers: Random Forest Classifier, Random Forest Regressor, Decision Tree Regressor, Support Vector Machine, Neural Support Vector Machine, Linear Regression, Bernoulli"
   ]
  },
  {
   "cell_type": "code",
   "execution_count": 143,
   "id": "e86bbef1",
   "metadata": {},
   "outputs": [
    {
     "name": "stdout",
     "output_type": "stream",
     "text": [
      "Random Forrest Classifier Accuracy, MSE: 100.00%, 0.00\n",
      "Decision Tree Regressor Accuracy, MSE: 90.07%, 0.10\n",
      "Linear Regression Accuracy, MSE: 97.87%, 0.09\n",
      "Bernoulli Accuracy, MSE: 77.30%, 0.58\n"
     ]
    }
   ],
   "source": [
    "#Import classifiers\n",
    "from sklearn.ensemble import RandomForestClassifier\n",
    "from sklearn.ensemble import RandomForestRegressor\n",
    "from sklearn.tree import DecisionTreeRegressor\n",
    "from sklearn.tree import DecisionTreeClassifier\n",
    "from sklearn.svm import NuSVC\n",
    "from sklearn.discriminant_analysis import LinearDiscriminantAnalysis\n",
    "from sklearn.naive_bayes import BernoulliNB\n",
    "\n",
    "from sklearn.metrics import mean_absolute_error\n",
    "from sklearn.metrics import mean_squared_error\n",
    "from sklearn.metrics import accuracy_score\n",
    "\n",
    "#Fit data using classifiers and calculate accuracy\n",
    "#Random Forest Classifier\n",
    "classifier_RFC = RandomForestClassifier()\n",
    "classifier_RFC.fit(X_train, Y_train)\n",
    "y_pred_RFC = classifier_RFC.predict(x_test)\n",
    "accuracy_RFC = accuracy_score(y_test, y_pred_RFC)\n",
    "mse_RFC = mean_squared_error(y_test, y_pred_RFC)\n",
    "\n",
    "#Decision Tree Regressor\n",
    "classifier_DTC = DecisionTreeClassifier(max_depth=3)\n",
    "classifier_DTC.fit(X_train, Y_train)\n",
    "y_pred_DTC = classifier_DTC.predict(x_test)\n",
    "accuracy_DTC = accuracy_score(y_test, y_pred_DTC)\n",
    "mse_DTC = mean_squared_error(y_test, y_pred_DTC)\n",
    "\n",
    "#Support Vector Machine\n",
    "#classifier_SVM = NuSVC(kernel='rbf', nu=1)\n",
    "#classifier_SVM.fit(X_train, Y_train)\n",
    "#y_pred_SVM = classifier_SVM.predict(x_test)\n",
    "#accuracy_SVM = accuracy_score(y_test, y_pred_SVM)\n",
    "#mse_SVM = mean_squared_error(y_test, y_pred_SVM)\n",
    "\n",
    "#Neural Support Vector Machine\n",
    "#classifier_NSVM = NuSVC(kernel='linear')\n",
    "#classifier_NSVM.fit(X_train, Y_train)\n",
    "#y_pred_NSVM = classifier_NSVM.predict(x_test)\n",
    "#accuracy_NSVM = accuracy_score(y_test, y_pred_NSVM)\n",
    "#mse_NSVM = mean_squared_error(y_test, y_pred_NSVM)\n",
    "\n",
    "#Linear Discriminant Analysis\n",
    "classifier_LDA = LinearDiscriminantAnalysis()\n",
    "classifier_LDA.fit(X_train, Y_train)\n",
    "y_pred_LDA = classifier_LDA.predict(x_test)\n",
    "accuracy_LDA = accuracy_score(y_test, y_pred_LDA)\n",
    "mse_LDA = mean_squared_error(y_test, y_pred_LDA)\n",
    "\n",
    "#Bernoulli\n",
    "classifier_BNB = BernoulliNB()\n",
    "classifier_BNB.fit(X_train, Y_train)\n",
    "y_pred_BNB = classifier_BNB.predict(x_test)\n",
    "accuracy_BNB = accuracy_score(y_test, y_pred_BNB)\n",
    "mse_BNB = mean_squared_error(y_test, y_pred_BNB)\n",
    "\n",
    "print(\"{} Accuracy, MSE: {:.2f}%, {:.2f}\".format('Random Forrest Classifier', accuracy_RFC*100, mse_RFC))\n",
    "print(\"{} Accuracy, MSE: {:.2f}%, {:.2f}\".format('Decision Tree Regressor', accuracy_DTC*100, mse_DTC))\n",
    "#print(\"{} Accuracy, MSE: {:.2f}%, {:.2f}\".format('Support Vector Machine', accuracy_SVM*100, mse_SVM))\n",
    "#print(\"{} Accuracy, MSE: {:.2f}%, {:.2f}\".format('Neural Support Vector Machine', accuracy_NSVM*100, mse_NSVM))\n",
    "print(\"{} Accuracy, MSE: {:.2f}%, {:.2f}\".format('Linear Regression', accuracy_LDA*100, mse_LDA))\n",
    "print(\"{} Accuracy, MSE: {:.2f}%, {:.2f}\".format('Bernoulli', accuracy_BNB*100, mse_BNB))"
   ]
  }
 ],
 "metadata": {
  "kernelspec": {
   "display_name": "Python 3 (ipykernel)",
   "language": "python",
   "name": "python3"
  },
  "language_info": {
   "codemirror_mode": {
    "name": "ipython",
    "version": 3
   },
   "file_extension": ".py",
   "mimetype": "text/x-python",
   "name": "python",
   "nbconvert_exporter": "python",
   "pygments_lexer": "ipython3",
   "version": "3.11.7"
  }
 },
 "nbformat": 4,
 "nbformat_minor": 5
}
