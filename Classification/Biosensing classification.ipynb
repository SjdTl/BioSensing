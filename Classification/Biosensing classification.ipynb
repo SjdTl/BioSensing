{
 "cells": [
  {
   "cell_type": "code",
   "execution_count": 161,
   "id": "913ca025",
   "metadata": {},
   "outputs": [
    {
     "name": "stdout",
     "output_type": "stream",
     "text": [
      "Requirement already satisfied: matplotlib in c:\\users\\bramv\\anaconda3\\lib\\site-packages (3.8.0)\n",
      "Requirement already satisfied: contourpy>=1.0.1 in c:\\users\\bramv\\anaconda3\\lib\\site-packages (from matplotlib) (1.2.0)\n",
      "Requirement already satisfied: cycler>=0.10 in c:\\users\\bramv\\anaconda3\\lib\\site-packages (from matplotlib) (0.11.0)\n",
      "Requirement already satisfied: fonttools>=4.22.0 in c:\\users\\bramv\\anaconda3\\lib\\site-packages (from matplotlib) (4.25.0)\n",
      "Requirement already satisfied: kiwisolver>=1.0.1 in c:\\users\\bramv\\anaconda3\\lib\\site-packages (from matplotlib) (1.4.4)\n",
      "Requirement already satisfied: numpy<2,>=1.21 in c:\\users\\bramv\\anaconda3\\lib\\site-packages (from matplotlib) (1.26.4)\n",
      "Requirement already satisfied: packaging>=20.0 in c:\\users\\bramv\\anaconda3\\lib\\site-packages (from matplotlib) (23.1)\n",
      "Requirement already satisfied: pillow>=6.2.0 in c:\\users\\bramv\\anaconda3\\lib\\site-packages (from matplotlib) (10.2.0)\n",
      "Requirement already satisfied: pyparsing>=2.3.1 in c:\\users\\bramv\\anaconda3\\lib\\site-packages (from matplotlib) (3.0.9)\n",
      "Requirement already satisfied: python-dateutil>=2.7 in c:\\users\\bramv\\anaconda3\\lib\\site-packages (from matplotlib) (2.8.2)\n",
      "Requirement already satisfied: six>=1.5 in c:\\users\\bramv\\anaconda3\\lib\\site-packages (from python-dateutil>=2.7->matplotlib) (1.16.0)\n",
      "Note: you may need to restart the kernel to use updated packages.\n",
      "Requirement already satisfied: tqdm in c:\\users\\bramv\\anaconda3\\lib\\site-packages (4.65.0)\n",
      "Requirement already satisfied: colorama in c:\\users\\bramv\\anaconda3\\lib\\site-packages (from tqdm) (0.4.6)\n",
      "Note: you may need to restart the kernel to use updated packages.\n",
      "Requirement already satisfied: pandas in c:\\users\\bramv\\anaconda3\\lib\\site-packages (2.1.4)\n",
      "Requirement already satisfied: numpy<2,>=1.23.2 in c:\\users\\bramv\\anaconda3\\lib\\site-packages (from pandas) (1.26.4)\n",
      "Requirement already satisfied: python-dateutil>=2.8.2 in c:\\users\\bramv\\anaconda3\\lib\\site-packages (from pandas) (2.8.2)\n",
      "Requirement already satisfied: pytz>=2020.1 in c:\\users\\bramv\\anaconda3\\lib\\site-packages (from pandas) (2023.3.post1)\n",
      "Requirement already satisfied: tzdata>=2022.1 in c:\\users\\bramv\\anaconda3\\lib\\site-packages (from pandas) (2023.3)\n",
      "Requirement already satisfied: six>=1.5 in c:\\users\\bramv\\anaconda3\\lib\\site-packages (from python-dateutil>=2.8.2->pandas) (1.16.0)\n",
      "Note: you may need to restart the kernel to use updated packages.\n"
     ]
    }
   ],
   "source": [
    "%pip install matplotlib\n",
    "%pip install tqdm\n",
    "%pip install pandas\n",
    "\n",
    "import matplotlib.pyplot as plt\n",
    "from tqdm.notebook import tqdm\n",
    "from sklearn import preprocessing\n",
    "from sklearn.decomposition import PCA\n",
    "from scipy import stats\n",
    "import numpy as np\n",
    "import pandas as pd\n",
    "import os"
   ]
  },
  {
   "cell_type": "code",
   "execution_count": 207,
   "id": "5d42eccc",
   "metadata": {},
   "outputs": [
    {
     "name": "stdout",
     "output_type": "stream",
     "text": [
      "      HRV_RMSSD  HRV_pNN50  HRV_pNN20  ECG_Mean  ECG_Median   ECG_STD  \\\n",
      "0    105.719112  44.444444  75.308642  0.000065    0.004028  0.138177   \n",
      "1     78.774441  32.857143  65.714286  0.000156   -0.016569  0.153317   \n",
      "2     73.133812  36.986301  73.972603  0.000146   -0.007233  0.182672   \n",
      "3     57.116065  32.394366  71.830986  0.000142   -0.007799  0.143739   \n",
      "4     83.741894  34.722222  68.055556  0.000080   -0.008144  0.142714   \n",
      "..          ...        ...        ...       ...         ...       ...   \n",
      "700  100.223467  56.716418  76.119403 -0.000200    0.003745  0.137908   \n",
      "701  110.112229  50.000000  66.176471 -0.000117    0.006527  0.132340   \n",
      "702  101.277859  47.761194  79.104478 -0.000101    0.006182  0.128651   \n",
      "703   88.442987  49.230769  81.538462  0.000044    0.007703  0.126626   \n",
      "704   87.368694  48.387097  85.483871  0.000062    0.006795  0.125215   \n",
      "\n",
      "     ECG_Mode  EDA_onset  EDA_recovery    EDA_RR  ...   EDA_STD  EDA_Mode  \\\n",
      "0   -0.435590   1.312990      1.649156  0.000190  ...  0.271376  4.505697   \n",
      "1   -0.412248   1.549756      1.360361  0.000238  ...  0.219756  3.764534   \n",
      "2   -2.075364   3.629162      1.544497  0.000048  ...  0.145245  3.298118   \n",
      "3   -0.385427   0.780499      0.508262  0.000524  ...  0.154538  2.771307   \n",
      "4   -0.384479   0.634694      0.552496  0.000524  ...  0.103485  2.413332   \n",
      "..        ...        ...           ...       ...  ...       ...       ...   \n",
      "700 -0.489203   1.061335      0.719436  0.000548  ...  0.006585  0.645867   \n",
      "701 -0.389759   0.769093      0.649361  0.000690  ...  0.009844  0.615199   \n",
      "702 -0.391393   0.768593      0.493095  0.000643  ...  0.030521  0.516464   \n",
      "703 -0.375621   0.494102      0.571462  0.000667  ...  0.007809  0.488205   \n",
      "704 -0.381022   0.558135      0.426726  0.000905  ...  0.004452  0.474353   \n",
      "\n",
      "       EMG_WL  EMG_SSC   EMG_MAL   EMG_MCI      EMG_Mean  EMG_Median  \\\n",
      "0   -0.000497   3642.0  0.013764  0.009850 -3.257976e-19    0.000434   \n",
      "1    0.000528   3266.0  0.008373  0.006120 -1.222567e-19    0.000299   \n",
      "2   -0.002069   3963.0  0.009809  0.007156  3.568574e-20    0.000331   \n",
      "3    0.005883   3955.0  0.009503  0.007098 -8.582751e-20    0.000040   \n",
      "4    0.001188   3946.0  0.009504  0.007175  2.428613e-20    0.000122   \n",
      "..        ...      ...       ...       ...           ...         ...   \n",
      "700 -0.000149   4395.0  0.006947  0.005017  1.191177e-19    0.000549   \n",
      "701  0.001409   4643.0  0.006927  0.005041 -8.557969e-20    0.000693   \n",
      "702  0.000845   2230.0  0.006976  0.005213  2.172535e-19    0.000916   \n",
      "703  0.000091   1265.0  0.006829  0.005079 -1.932978e-20    0.000967   \n",
      "704 -0.000917   1321.0  0.006714  0.005027  5.352861e-20    0.000978   \n",
      "\n",
      "      EMG_STD  EMG_Mode  \n",
      "0    0.013764 -0.250189  \n",
      "1    0.008373 -0.062794  \n",
      "2    0.009809 -0.076475  \n",
      "3    0.009503 -0.057583  \n",
      "4    0.009504 -0.074471  \n",
      "..        ...       ...  \n",
      "700  0.006947 -0.047909  \n",
      "701  0.006927 -0.048760  \n",
      "702  0.006976 -0.046855  \n",
      "703  0.006829 -0.047052  \n",
      "704  0.006714 -0.045084  \n",
      "\n",
      "[705 rows x 24 columns]\n"
     ]
    }
   ],
   "source": [
    "#Extract the \n",
    "features_data = pd.read_pickle(\"features.pkl\")\n",
    "#print(features_data[[\"label\", \"subject\"]])\n",
    "\n",
    "features_data_turncated = features_data.drop(columns=['label', 'subject'])\n",
    "\n",
    "#features_data_turncated = features_data[[\"Mean_ecg\", \"mean_EDA\", \"WL_emg\", \"SSC_emg\", \"MAL_emg\", \"MCI_emg\", \"Mean_emg\" \"Median_emg\", \"STD_emg\", \"Mode_emg\"]]\n",
    "#features_data[\"Mean_ecg\"] = preprocessing.normalize()\n",
    "\n",
    "#x = features_data_turncated.values\n",
    "#min_max_scaler = preprocessing.MinMaxScaler()\n",
    "#x_scaled = min_max_scaler.fit_transform(x)\n",
    "#features_data_N = pd.DataFrame(x_scaled, index=features_data.index, columns=features_data_turncated.columns)\n",
    "\n",
    "scaler = preprocessing.StandardScaler()\n",
    "features_data_scaled = scaler.fit_transform(features_data_turncated)\n",
    "\n",
    "#features_data_N = pd.concat([features_data_N, features_data[[\"label\", \"subject\"]]], axis=1).reindex(features_data_N.index)\n",
    "\n",
    "print(features_data_turncated)"
   ]
  },
  {
   "cell_type": "code",
   "execution_count": 208,
   "id": "7abfa0f1",
   "metadata": {},
   "outputs": [
    {
     "name": "stdout",
     "output_type": "stream",
     "text": [
      "[[-3.87245670e+02  2.52741737e+01  3.82137291e+00 ... -1.91521190e-01\n",
      "  -3.12190254e-01 -2.96902211e-02]\n",
      " [-1.13286692e+01 -6.19244221e+00  7.83444664e+00 ... -1.44408774e-01\n",
      "   2.43525956e-01 -7.86795754e-03]\n",
      " [-7.08304935e+02 -6.62311652e+00 -3.73241629e+00 ...  7.65155415e-01\n",
      "  -4.96979928e-02  6.10860898e-03]\n",
      " ...\n",
      " [ 1.02475692e+03  1.99783796e+01 -1.84434787e-02 ...  8.53015652e-03\n",
      "  -4.88425486e-02  6.67647358e-02]\n",
      " [ 1.98973974e+03  6.94239054e+00 -5.43641999e+00 ...  4.98561939e-02\n",
      "  -1.34956138e-01  4.51696612e-02]\n",
      " [ 1.93374985e+03  6.59417177e+00 -8.21205817e+00 ... -2.30639402e-02\n",
      "  -1.84304187e-02  4.36665605e-02]]\n"
     ]
    }
   ],
   "source": [
    "pca = PCA(n_components=10)\n",
    "pca_features = pca.fit_transform(features_data_turncated)\n",
    "# pca_features = features_data_turncated\n",
    "print(pca_features)"
   ]
  },
  {
   "cell_type": "code",
   "execution_count": 209,
   "id": "8dbabd8f",
   "metadata": {},
   "outputs": [
    {
     "name": "stdout",
     "output_type": "stream",
     "text": [
      "(705, 10)\n",
      "(212, 10)\n"
     ]
    }
   ],
   "source": [
    "from sklearn.model_selection import train_test_split\n",
    "print(np.shape(pca_features))\n",
    "#Split the data into a train and test set\n",
    "X_train, x_test, Y_train, y_test = train_test_split(pca_features, features_data_N[\"label\"], test_size=0.3,shuffle=True, random_state=102)\n",
    "print(np.shape(x_test))\n",
    "scaler = preprocessing.StandardScaler().fit(X_train)\n",
    "X_train = scaler.transform(X_train)\n",
    "x_test = scaler.transform(x_test)"
   ]
  },
  {
   "cell_type": "code",
   "execution_count": 210,
   "id": "cfe9d564",
   "metadata": {},
   "outputs": [
    {
     "data": {
      "text/plain": [
       "74     2\n",
       "106    1\n",
       "179    4\n",
       "137    4\n",
       "136    4\n",
       "      ..\n",
       "341    1\n",
       "372    4\n",
       "658    1\n",
       "641    3\n",
       "209    2\n",
       "Name: label, Length: 212, dtype: int64"
      ]
     },
     "execution_count": 210,
     "metadata": {},
     "output_type": "execute_result"
    }
   ],
   "source": [
    "y_test"
   ]
  },
  {
   "cell_type": "markdown",
   "id": "8e2cfc36",
   "metadata": {},
   "source": [
    "features_data_N[\"label\"]\n"
   ]
  },
  {
   "cell_type": "code",
   "execution_count": 203,
   "id": "55b3c982",
   "metadata": {},
   "outputs": [
    {
     "data": {
      "text/plain": [
       "0      1\n",
       "1      1\n",
       "2      1\n",
       "3      1\n",
       "4      1\n",
       "      ..\n",
       "700    4\n",
       "701    4\n",
       "702    4\n",
       "703    4\n",
       "704    4\n",
       "Name: label, Length: 705, dtype: int64"
      ]
     },
     "execution_count": 203,
     "metadata": {},
     "output_type": "execute_result"
    }
   ],
   "source": [
    "features_data_N[\"label\"]\n"
   ]
  },
  {
   "cell_type": "markdown",
   "id": "e87076dc",
   "metadata": {},
   "source": [
    "Below the train data is fitted using the following classifiers: Random Forest Classifier, Random Forest Regressor, Decision Tree Regressor, Support Vector Machine, Neural Support Vector Machine, Linear Regression, Bernoulli"
   ]
  },
  {
   "cell_type": "code",
   "execution_count": 211,
   "id": "e86bbef1",
   "metadata": {},
   "outputs": [
    {
     "name": "stdout",
     "output_type": "stream",
     "text": [
      "Random Forrest Classifier Accuracy, MSE: 100.00%, 0.00\n",
      "Decision Tree Regressor Accuracy, MSE: 88.21%, 0.50\n",
      "Support Vector Machine Accuracy, MSE: 100.00%, 0.00\n",
      "Linear Discriminant Analysis Accuracy, MSE: 87.26%, 0.13\n",
      "Bernoulli Accuracy, MSE: 70.75%, 1.21\n"
     ]
    }
   ],
   "source": [
    "#Import classifiers\n",
    "from sklearn.ensemble import RandomForestClassifier\n",
    "from sklearn.ensemble import RandomForestRegressor\n",
    "from sklearn.tree import DecisionTreeRegressor\n",
    "from sklearn.tree import DecisionTreeClassifier\n",
    "from sklearn.svm import NuSVC,SVC\n",
    "from sklearn.discriminant_analysis import LinearDiscriminantAnalysis\n",
    "from sklearn.naive_bayes import BernoulliNB\n",
    "\n",
    "from sklearn.metrics import mean_absolute_error\n",
    "from sklearn.metrics import mean_squared_error\n",
    "from sklearn.metrics import accuracy_score,confusion_matrix\n",
    "\n",
    "#Fit data using classifiers and calculate accuracy\n",
    "#Random Forest Classifier\n",
    "classifier_RFC = RandomForestClassifier()\n",
    "classifier_RFC.fit(X_train, Y_train)\n",
    "y_pred_RFC = classifier_RFC.predict(x_test)\n",
    "accuracy_RFC = accuracy_score(y_test, y_pred_RFC)\n",
    "mse_RFC = mean_squared_error(y_test, y_pred_RFC)\n",
    "\n",
    "#Decision Tree Regressor\n",
    "classifier_DTC = DecisionTreeClassifier(max_depth=3)\n",
    "classifier_DTC.fit(X_train, Y_train)\n",
    "y_pred_DTC = classifier_DTC.predict(x_test)\n",
    "accuracy_DTC = accuracy_score(y_test, y_pred_DTC)\n",
    "mse_DTC = mean_squared_error(y_test, y_pred_DTC)\n",
    "\n",
    "#Support Vector Machine\n",
    "classifier_SVM = SVC(kernel='rbf')\n",
    "classifier_SVM.fit(X_train, Y_train)\n",
    "y_pred_SVM = classifier_SVM.predict(x_test)\n",
    "accuracy_SVM = accuracy_score(y_test, y_pred_SVM)\n",
    "mse_SVM = mean_squared_error(y_test, y_pred_SVM)\n",
    "\n",
    "#Neural Support Vector Machine\n",
    "#classifier_NSVM = NuSVC(kernel='linear')\n",
    "#classifier_NSVM.fit(X_train, Y_train)\n",
    "#y_pred_NSVM = classifier_NSVM.predict(x_test)\n",
    "#accuracy_NSVM = accuracy_score(y_test, y_pred_NSVM)\n",
    "#mse_NSVM = mean_squared_error(y_test, y_pred_NSVM)\n",
    "\n",
    "#Linear Discriminant Analysis\n",
    "classifier_LDA = LinearDiscriminantAnalysis()\n",
    "classifier_LDA.fit(X_train, Y_train)\n",
    "y_pred_LDA = classifier_LDA.predict(x_test)\n",
    "accuracy_LDA = accuracy_score(y_test, y_pred_LDA)\n",
    "mse_LDA = mean_squared_error(y_test, y_pred_LDA)\n",
    "\n",
    "#Bernoulli\n",
    "classifier_BNB = BernoulliNB()\n",
    "classifier_BNB.fit(X_train, Y_train)\n",
    "y_pred_BNB = classifier_BNB.predict(x_test)\n",
    "accuracy_BNB = accuracy_score(y_test, y_pred_BNB)\n",
    "mse_BNB = mean_squared_error(y_test, y_pred_BNB)\n",
    "\n",
    "print(\"{} Accuracy, MSE: {:.2f}%, {:.2f}\".format('Random Forrest Classifier', accuracy_RFC*100, mse_RFC))\n",
    "print(\"{} Accuracy, MSE: {:.2f}%, {:.2f}\".format('Decision Tree Regressor', accuracy_DTC*100, mse_DTC))\n",
    "print(\"{} Accuracy, MSE: {:.2f}%, {:.2f}\".format('Support Vector Machine', accuracy_SVM*100, mse_SVM))\n",
    "#print(\"{} Accuracy, MSE: {:.2f}%, {:.2f}\".format('Neural Support Vector Machine', accuracy_NSVM*100, mse_NSVM))\n",
    "print(\"{} Accuracy, MSE: {:.2f}%, {:.2f}\".format('Linear Discriminant Analysis', accuracy_LDA*100, mse_LDA))\n",
    "print(\"{} Accuracy, MSE: {:.2f}%, {:.2f}\".format('Bernoulli', accuracy_BNB*100, mse_BNB))"
   ]
  },
  {
   "cell_type": "code",
   "execution_count": 205,
   "id": "791c4928",
   "metadata": {},
   "outputs": [
    {
     "data": {
      "text/plain": [
       "array([[84,  0,  0,  0],\n",
       "       [ 0, 43,  0,  0],\n",
       "       [ 0,  0, 29,  0],\n",
       "       [ 0,  0,  0, 56]], dtype=int64)"
      ]
     },
     "execution_count": 205,
     "metadata": {},
     "output_type": "execute_result"
    }
   ],
   "source": [
    "confusion_matrix(y_test, y_pred_RFC)"
   ]
  },
  {
   "cell_type": "code",
   "execution_count": 184,
   "id": "9bdca159",
   "metadata": {},
   "outputs": [],
   "source": [
    "classifier_RFC = RandomForestClassifier()\n",
    "classifier_RFC.fit(X_train, Y_train)\n",
    "y_pred_RFC = classifier_RFC.predict(x_test)\n",
    "accuracy_RFC = accuracy_score(y_test, y_pred_RFC)"
   ]
  },
  {
   "cell_type": "code",
   "execution_count": 185,
   "id": "799804cb",
   "metadata": {},
   "outputs": [
    {
     "data": {
      "text/plain": [
       "1.0"
      ]
     },
     "execution_count": 185,
     "metadata": {},
     "output_type": "execute_result"
    }
   ],
   "source": [
    "accuracy_RFC"
   ]
  },
  {
   "cell_type": "code",
   "execution_count": 183,
   "id": "c6f16b76",
   "metadata": {},
   "outputs": [
    {
     "data": {
      "text/plain": [
       "303    2\n",
       "198    1\n",
       "326    4\n",
       "635    2\n",
       "467    4\n",
       "      ..\n",
       "45     4\n",
       "626    1\n",
       "242    1\n",
       "590    2\n",
       "256    2\n",
       "Name: label, Length: 493, dtype: int64"
      ]
     },
     "execution_count": 183,
     "metadata": {},
     "output_type": "execute_result"
    }
   ],
   "source": [
    "Y_train"
   ]
  },
  {
   "cell_type": "code",
   "execution_count": 177,
   "id": "c000c4b1",
   "metadata": {},
   "outputs": [
    {
     "data": {
      "text/plain": [
       "74     2\n",
       "106    1\n",
       "179    4\n",
       "137    4\n",
       "136    4\n",
       "      ..\n",
       "341    1\n",
       "372    4\n",
       "658    1\n",
       "641    3\n",
       "209    2\n",
       "Name: label, Length: 212, dtype: int64"
      ]
     },
     "execution_count": 177,
     "metadata": {},
     "output_type": "execute_result"
    }
   ],
   "source": [
    "y_test"
   ]
  },
  {
   "cell_type": "code",
   "execution_count": 181,
   "id": "1c8d3838",
   "metadata": {},
   "outputs": [
    {
     "data": {
      "text/plain": [
       "[<matplotlib.lines.Line2D at 0x209c5258190>]"
      ]
     },
     "execution_count": 181,
     "metadata": {},
     "output_type": "execute_result"
    },
    {
     "data": {
      "image/png": "[encoded data removed]",
      "text/plain": [
       "<Figure size 640x480 with 1 Axes>"
      ]
     },
     "metadata": {},
     "output_type": "display_data"
    }
   ],
   "source": [
    "plt.plot(X_train[0])\n",
    "plt.plot(x_test[0])"
   ]
  }
 ],
 "metadata": {
  "kernelspec": {
   "display_name": "Python 3 (ipykernel)",
   "language": "python",
   "name": "python3"
  },
  "language_info": {
   "codemirror_mode": {
    "name": "ipython",
    "version": 3
   },
   "file_extension": ".py",
   "mimetype": "text/x-python",
   "name": "python",
   "nbconvert_exporter": "python",
   "pygments_lexer": "ipython3",
   "version": "3.11.7"
  }
 },
 "nbformat": 4,
 "nbformat_minor": 5
}
