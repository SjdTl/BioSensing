{
 "cells": [
  {
   "cell_type": "code",
   "execution_count": 4,
   "id": "913ca025",
   "metadata": {},
   "outputs": [
    {
     "name": "stdout",
     "output_type": "stream",
     "text": [
      "Requirement already satisfied: matplotlib in c:\\users\\bramv\\appdata\\local\\programs\\python\\python310\\lib\\site-packages (3.8.4)\n",
      "Requirement already satisfied: fonttools>=4.22.0 in c:\\users\\bramv\\appdata\\local\\programs\\python\\python310\\lib\\site-packages (from matplotlib) (4.51.0)\n",
      "Requirement already satisfied: pyparsing>=2.3.1 in c:\\users\\bramv\\appdata\\local\\programs\\python\\python310\\lib\\site-packages (from matplotlib) (3.1.2)\n",
      "Requirement already satisfied: pillow>=8 in c:\\users\\bramv\\appdata\\local\\programs\\python\\python310\\lib\\site-packages (from matplotlib) (10.3.0)\n",
      "Requirement already satisfied: packaging>=20.0 in c:\\users\\bramv\\appdata\\roaming\\python\\python310\\site-packages (from matplotlib) (23.2)\n",
      "Requirement already satisfied: contourpy>=1.0.1 in c:\\users\\bramv\\appdata\\local\\programs\\python\\python310\\lib\\site-packages (from matplotlib) (1.2.1)\n",
      "Requirement already satisfied: numpy>=1.21 in c:\\users\\bramv\\appdata\\local\\programs\\python\\python310\\lib\\site-packages (from matplotlib) (1.26.4)\n",
      "Requirement already satisfied: kiwisolver>=1.3.1 in c:\\users\\bramv\\appdata\\local\\programs\\python\\python310\\lib\\site-packages (from matplotlib) (1.4.5)\n",
      "Requirement already satisfied: cycler>=0.10 in c:\\users\\bramv\\appdata\\local\\programs\\python\\python310\\lib\\site-packages (from matplotlib) (0.12.1)\n",
      "Requirement already satisfied: python-dateutil>=2.7 in c:\\users\\bramv\\appdata\\roaming\\python\\python310\\site-packages (from matplotlib) (2.8.2)\n",
      "Requirement already satisfied: six>=1.5 in c:\\users\\bramv\\appdata\\roaming\\python\\python310\\site-packages (from python-dateutil>=2.7->matplotlib) (1.16.0)\n",
      "Note: you may need to restart the kernel to use updated packages.\n"
     ]
    },
    {
     "name": "stderr",
     "output_type": "stream",
     "text": [
      "WARNING: You are using pip version 22.0.4; however, version 24.0 is available.\n",
      "You should consider upgrading via the 'c:\\Users\\bramv\\AppData\\Local\\Programs\\Python\\Python310\\python.exe -m pip install --upgrade pip' command.\n"
     ]
    },
    {
     "name": "stdout",
     "output_type": "stream",
     "text": [
      "Requirement already satisfied: tqdm in c:\\users\\bramv\\appdata\\local\\programs\\python\\python310\\lib\\site-packages (4.66.2)\n",
      "Requirement already satisfied: colorama in c:\\users\\bramv\\appdata\\local\\programs\\python\\python310\\lib\\site-packages (from tqdm) (0.4.6)\n",
      "Note: you may need to restart the kernel to use updated packages.\n"
     ]
    },
    {
     "name": "stderr",
     "output_type": "stream",
     "text": [
      "WARNING: You are using pip version 22.0.4; however, version 24.0 is available.\n",
      "You should consider upgrading via the 'c:\\Users\\bramv\\AppData\\Local\\Programs\\Python\\Python310\\python.exe -m pip install --upgrade pip' command.\n",
      "WARNING: You are using pip version 22.0.4; however, version 24.0 is available.\n",
      "You should consider upgrading via the 'c:\\Users\\bramv\\AppData\\Local\\Programs\\Python\\Python310\\python.exe -m pip install --upgrade pip' command.\n"
     ]
    },
    {
     "name": "stdout",
     "output_type": "stream",
     "text": [
      "Collecting pandas\n",
      "  Downloading pandas-2.2.2-cp310-cp310-win_amd64.whl (11.6 MB)\n",
      "     --------------------------------------- 11.6/11.6 MB 10.1 MB/s eta 0:00:00\n",
      "Requirement already satisfied: python-dateutil>=2.8.2 in c:\\users\\bramv\\appdata\\roaming\\python\\python310\\site-packages (from pandas) (2.8.2)\n",
      "Collecting tzdata>=2022.7\n",
      "  Downloading tzdata-2024.1-py2.py3-none-any.whl (345 kB)\n",
      "     ------------------------------------- 345.4/345.4 KB 10.8 MB/s eta 0:00:00\n",
      "Requirement already satisfied: numpy>=1.22.4 in c:\\users\\bramv\\appdata\\local\\programs\\python\\python310\\lib\\site-packages (from pandas) (1.26.4)\n",
      "Collecting pytz>=2020.1\n",
      "  Downloading pytz-2024.1-py2.py3-none-any.whl (505 kB)\n",
      "     ------------------------------------- 505.5/505.5 KB 10.5 MB/s eta 0:00:00\n",
      "Requirement already satisfied: six>=1.5 in c:\\users\\bramv\\appdata\\roaming\\python\\python310\\site-packages (from python-dateutil>=2.8.2->pandas) (1.16.0)\n",
      "Installing collected packages: pytz, tzdata, pandas\n",
      "Successfully installed pandas-2.2.2 pytz-2024.1 tzdata-2024.1\n",
      "Note: you may need to restart the kernel to use updated packages.\n"
     ]
    }
   ],
   "source": [
    "%pip install matplotlib\n",
    "%pip install tqdm\n",
    "%pip install pandas\n",
    "\n",
    "import matplotlib.pyplot as plt\n",
    "from tqdm.notebook import tqdm\n",
    "from sklearn.preprocessing import StandardScaler\n",
    "from scipy import stats\n",
    "import numpy as np\n",
    "import pandas as pd\n",
    "import os"
   ]
  },
  {
   "cell_type": "code",
   "execution_count": null,
   "id": "5d42eccc",
   "metadata": {},
   "outputs": [],
   "source": [
    "#Extract the \n",
    "features_data = pd.read_pickle(\"Classification/features.pkl\")\n"
   ]
  },
  {
   "cell_type": "code",
   "execution_count": null,
   "id": "7abfa0f1",
   "metadata": {},
   "outputs": [],
   "source": [
    "pca = PCA(n_components=...)\n",
    "pca_features = pca.fit_transform(features_data)"
   ]
  },
  {
   "cell_type": "code",
   "execution_count": null,
   "id": "8dbabd8f",
   "metadata": {},
   "outputs": [],
   "source": [
    "from sklearn.model_selection import train_test_split\n",
    "\n",
    "#Split the data into a train and test set\n",
    "X_train, x_test, Y_train, y_test = train_test_split(X, y, test_size=0.2,shuffle=True, random_state=102)"
   ]
  },
  {
   "cell_type": "markdown",
   "id": "e87076dc",
   "metadata": {},
   "source": [
    "Below the train data is fitted using the following classifiers: Random Forest Classifier, Random Forest Regressor, Decision Tree Regressor, Support Vector Machine, Neural Support Vector Machine, Linear Regression, Bernoulli"
   ]
  },
  {
   "cell_type": "code",
   "execution_count": null,
   "id": "e86bbef1",
   "metadata": {},
   "outputs": [],
   "source": [
    "#Import classifiers\n",
    "from sklearn.ensemble import RandomForestClassifier\n",
    "from sklearn.ensemble import RandomForestRegressor\n",
    "from sklearn.tree import DecisionTreeRegressor\n",
    "from sklearn import svm\n",
    "from sklearn.svm import NuSVR\n",
    "from sklearn.linear_model import LinearRegression\n",
    "from sklearn.naive_bayes import BernoulliNB\n",
    "\n",
    "from sklearn.metrics import mean_absolute_error\n",
    "from sklearn.metrics import mean_squared_error\n",
    "\n",
    "#Fit data using classifiers and calculate accuracy\n",
    "#Random Forest Classifier\n",
    "classifier_RFC = RandomForestClassifier()\n",
    "classifier_RFC.fit(X_train, Y_train)\n",
    "y_pred_RFC = classifier_RFC.predict(x_test)\n",
    "accuracy_RFC = accuracy_score(y_test, y_pred_RFC)\n",
    "mse_RFC = mean_squared_error(y_test, y_pred_RFC)\n",
    "\n",
    "#Random Forest Regressor\n",
    "classifier_RFR = RandomForestRegressor()\n",
    "classifier_RFR.fit(X_train, Y_train)\n",
    "y_pred_RFR = classifier_RFR.predict(x_test)\n",
    "accuracy_RFR = accuracy_score(y_test, y_pred_RFR)\n",
    "mse_RFR = mean_squared_error(y_test, y_pred_RFR)\n",
    "\n",
    "#Decision Tree Regressor\n",
    "classifier_DTR = DecisionTreeRegressor(max_depth=3)\n",
    "classifier_DTR.fit(X_train, Y_train)\n",
    "y_pred_DTR = classifier_DTR.predict(x_test)\n",
    "accuracy_DTR = accuracy_score(y_test, y_pred_DTR)\n",
    "mse_DTR = mean_squared_error(y_test, y_pred_DTR)\n",
    "\n",
    "#Support Vector Machine\n",
    "classifier_SVM = NuSVR(kernel='rbf')\n",
    "classifier_SVM.fit(X_train, Y_train)\n",
    "y_pred_SVM = classifier_SVM.predict(x_test)\n",
    "accuracy_SVM = accuracy_score(y_test, y_pred_SVM)\n",
    "mse_SVM = mean_squared_error(y_test, y_pred_SVM)\n",
    "\n",
    "#Neural Support Vector Machine\n",
    "classifier_NSVM = NuSVR(kernel='linear')\n",
    "classifier_NSVM.fit(X_train, Y_train)\n",
    "y_pred_NSVM = classifier_NSVM.predict(x_test)\n",
    "accuracy_NSVM = accuracy_score(y_test, y_pred_NSVM)\n",
    "mse_NSVM = mean_squared_error(y_test, y_pred_NSVM)\n",
    "\n",
    "#Linear Regression\n",
    "classifier_LR = LinearRegression()\n",
    "classifier_LR.fit(X_train, Y_train)\n",
    "y_pred_LR = classifier_LR.predict(x_test)\n",
    "accuracy_LR = accuracy_score(y_test, y_pred_LR)\n",
    "mse_LR = mean_squared_error(y_test, y_pred_LR)\n",
    "\n",
    "#Bernoulli\n",
    "classifier_BNB = BernoulliNB()\n",
    "classifier_BNB.fit(X_train, Y_train)\n",
    "y_pred_BNB = classifier_BNB.predict(x_test)\n",
    "accuracy_BNB = accuracy_score(y_test, y_pred_BNB)\n",
    "mse_BNB = mean_squared_error(y_test, y_pred_BNB)\n",
    "\n",
    "print(\"{} Accuracy, MSE: {:.2f}%, {:.2f}\".format('Random Forrest Classifier', accuracy_RFC*100, mse_RFC))\n",
    "print(\"{} Accuracy, MSE: {:.2f}%, {:.2f}\".format('Random Forrest Regressor', accuracy_RFR*100, mse_RFR))\n",
    "print(\"{} Accuracy, MSE: {:.2f}%, {:.2f}\".format('Decision Tree Regressor', accuracy_DTR*100, mse_DTR))\n",
    "print(\"{} Accuracy, MSE: {:.2f}%, {:.2f}\".format('Support Vector Machine', accuracy_SVM*100, mse_SVM))\n",
    "print(\"{} Accuracy, MSE: {:.2f}%, {:.2f}\".format('Neural Support Vector Machine', accuracy_NSVM*100, mse_NSVM))\n",
    "print(\"{} Accuracy, MSE: {:.2f}%, {:.2f}\".format('Linear Regression', accuracy_LR*100, mse_LR))\n",
    "print(\"{} Accuracy, MSE: {:.2f}%, {:.2f}\".format('Bernoulli', accuracy_BNB*100, mse_BNB))"
   ]
  }
 ],
 "metadata": {
  "kernelspec": {
   "display_name": "Python 3 (ipykernel)",
   "language": "python",
   "name": "python3"
  },
  "language_info": {
   "codemirror_mode": {
    "name": "ipython",
    "version": 3
   },
   "file_extension": ".py",
   "mimetype": "text/x-python",
   "name": "python",
   "nbconvert_exporter": "python",
   "pygments_lexer": "ipython3",
   "version": "3.10.4"
  }
 },
 "nbformat": 4,
 "nbformat_minor": 5
}
